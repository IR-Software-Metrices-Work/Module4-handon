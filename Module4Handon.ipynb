{
 "cells": [
  {
   "cell_type": "markdown",
   "id": "711ce78b",
   "metadata": {},
   "source": [
    "# Module 4 Handon"
   ]
  },
  {
   "cell_type": "markdown",
   "id": "b8475deb",
   "metadata": {},
   "source": [
    "## Module Preparing"
   ]
  },
  {
   "cell_type": "markdown",
   "id": "33ea005d",
   "metadata": {},
   "source": [
    "### The Essentail Library"
   ]
  },
  {
   "cell_type": "code",
   "execution_count": 2,
   "id": "c78056aa",
   "metadata": {
    "pycharm": {
     "is_executing": true
    }
   },
   "outputs": [],
   "source": [
    "import pandas as pd # do some data\n",
    "import numpy as np\n",
    "import multiprocessing as mp\n",
    "import functools\n",
    "import itertools\n",
    "from string import ascii_lowercase"
   ]
  },
  {
   "cell_type": "markdown",
   "id": "1cfda658",
   "metadata": {},
   "source": [
    "---"
   ]
  },
  {
   "cell_type": "markdown",
   "id": "7813e0f9",
   "metadata": {},
   "source": [
    "## Prop Table Generation"
   ]
  },
  {
   "cell_type": "markdown",
   "id": "60472f8b",
   "metadata": {},
   "source": [
    "### Coca [Sample](https://www.english-corpora.org/coca/)"
   ]
  },
  {
   "cell_type": "code",
   "execution_count": 3,
   "id": "f7a2bb72",
   "metadata": {},
   "outputs": [
    {
     "data": {
      "text/html": [
       "<div>\n",
       "<style scoped>\n",
       "    .dataframe tbody tr th:only-of-type {\n",
       "        vertical-align: middle;\n",
       "    }\n",
       "\n",
       "    .dataframe tbody tr th {\n",
       "        vertical-align: top;\n",
       "    }\n",
       "\n",
       "    .dataframe thead th {\n",
       "        text-align: right;\n",
       "    }\n",
       "</style>\n",
       "<table border=\"1\" class=\"dataframe\">\n",
       "  <thead>\n",
       "    <tr style=\"text-align: right;\">\n",
       "      <th></th>\n",
       "      <th>word</th>\n",
       "      <th>frequency</th>\n",
       "      <th>P(w)</th>\n",
       "      <th>rank</th>\n",
       "    </tr>\n",
       "  </thead>\n",
       "  <tbody>\n",
       "    <tr>\n",
       "      <th>0</th>\n",
       "      <td>defeat</td>\n",
       "      <td>21947</td>\n",
       "      <td>2.194700e-05</td>\n",
       "      <td>1</td>\n",
       "    </tr>\n",
       "    <tr>\n",
       "      <th>1</th>\n",
       "      <td>decet</td>\n",
       "      <td>6</td>\n",
       "      <td>6.000000e-09</td>\n",
       "      <td>5</td>\n",
       "    </tr>\n",
       "    <tr>\n",
       "      <th>2</th>\n",
       "      <td>defect</td>\n",
       "      <td>3973</td>\n",
       "      <td>3.973000e-06</td>\n",
       "      <td>2</td>\n",
       "    </tr>\n",
       "    <tr>\n",
       "      <th>3</th>\n",
       "      <td>deft</td>\n",
       "      <td>1240</td>\n",
       "      <td>1.240000e-06</td>\n",
       "      <td>4</td>\n",
       "    </tr>\n",
       "    <tr>\n",
       "      <th>4</th>\n",
       "      <td>defer</td>\n",
       "      <td>2239</td>\n",
       "      <td>2.239000e-06</td>\n",
       "      <td>3</td>\n",
       "    </tr>\n",
       "    <tr>\n",
       "      <th>5</th>\n",
       "      <td>Deeft</td>\n",
       "      <td>0</td>\n",
       "      <td>0.000000e+00</td>\n",
       "      <td>6</td>\n",
       "    </tr>\n",
       "  </tbody>\n",
       "</table>\n",
       "</div>"
      ],
      "text/plain": [
       "     word  frequency          P(w)  rank\n",
       "0  defeat      21947  2.194700e-05     1\n",
       "1   decet          6  6.000000e-09     5\n",
       "2  defect       3973  3.973000e-06     2\n",
       "3    deft       1240  1.240000e-06     4\n",
       "4   defer       2239  2.239000e-06     3\n",
       "5   Deeft          0  0.000000e+00     6"
      ]
     },
     "execution_count": 3,
     "metadata": {},
     "output_type": "execute_result"
    }
   ],
   "source": [
    "COCA = pd.DataFrame(\n",
    "    [\n",
    "        ['defeat',21947],\n",
    "        ['decet',6],\n",
    "        ['defect',3973],\n",
    "        ['deft',1240],\n",
    "        ['defer',2239],\n",
    "        ['Deeft',0]\n",
    "    ],\n",
    "    columns=['word','frequency']\n",
    ")\n",
    "COCA_pop = 1e9\n",
    "COCA['P(w)'] = COCA['frequency']/COCA_pop\n",
    "COCA['rank'] = COCA['frequency'].rank(ascending=False).astype(int)\n",
    "\n",
    "COCA.head(6)"
   ]
  },
  {
   "cell_type": "markdown",
   "id": "2ac0c92f",
   "metadata": {},
   "source": [
    "### Wikipedia [sample](https://www.english-corpora.org/wiki/)"
   ]
  },
  {
   "cell_type": "code",
   "execution_count": 4,
   "id": "448191d3",
   "metadata": {},
   "outputs": [
    {
     "data": {
      "text/html": [
       "<div>\n",
       "<style scoped>\n",
       "    .dataframe tbody tr th:only-of-type {\n",
       "        vertical-align: middle;\n",
       "    }\n",
       "\n",
       "    .dataframe tbody tr th {\n",
       "        vertical-align: top;\n",
       "    }\n",
       "\n",
       "    .dataframe thead th {\n",
       "        text-align: right;\n",
       "    }\n",
       "</style>\n",
       "<table border=\"1\" class=\"dataframe\">\n",
       "  <thead>\n",
       "    <tr style=\"text-align: right;\">\n",
       "      <th></th>\n",
       "      <th>word</th>\n",
       "      <th>frequency</th>\n",
       "      <th>P(w)</th>\n",
       "      <th>rank</th>\n",
       "    </tr>\n",
       "  </thead>\n",
       "  <tbody>\n",
       "    <tr>\n",
       "      <th>0</th>\n",
       "      <td>defeat</td>\n",
       "      <td>121408</td>\n",
       "      <td>6.389895e-05</td>\n",
       "      <td>1</td>\n",
       "    </tr>\n",
       "    <tr>\n",
       "      <th>1</th>\n",
       "      <td>decet</td>\n",
       "      <td>81</td>\n",
       "      <td>4.263158e-08</td>\n",
       "      <td>5</td>\n",
       "    </tr>\n",
       "    <tr>\n",
       "      <th>2</th>\n",
       "      <td>defect</td>\n",
       "      <td>7793</td>\n",
       "      <td>4.101579e-06</td>\n",
       "      <td>2</td>\n",
       "    </tr>\n",
       "    <tr>\n",
       "      <th>3</th>\n",
       "      <td>deft</td>\n",
       "      <td>814</td>\n",
       "      <td>4.284211e-07</td>\n",
       "      <td>4</td>\n",
       "    </tr>\n",
       "    <tr>\n",
       "      <th>4</th>\n",
       "      <td>defer</td>\n",
       "      <td>1416</td>\n",
       "      <td>7.452632e-07</td>\n",
       "      <td>3</td>\n",
       "    </tr>\n",
       "    <tr>\n",
       "      <th>5</th>\n",
       "      <td>Deeft</td>\n",
       "      <td>0</td>\n",
       "      <td>0.000000e+00</td>\n",
       "      <td>6</td>\n",
       "    </tr>\n",
       "  </tbody>\n",
       "</table>\n",
       "</div>"
      ],
      "text/plain": [
       "     word  frequency          P(w)  rank\n",
       "0  defeat     121408  6.389895e-05     1\n",
       "1   decet         81  4.263158e-08     5\n",
       "2  defect       7793  4.101579e-06     2\n",
       "3    deft        814  4.284211e-07     4\n",
       "4   defer       1416  7.452632e-07     3\n",
       "5   Deeft          0  0.000000e+00     6"
      ]
     },
     "execution_count": 4,
     "metadata": {},
     "output_type": "execute_result"
    }
   ],
   "source": [
    "WIKI = pd.DataFrame(\n",
    "    [\n",
    "        ['defeat',121408],\n",
    "        ['decet',81],\n",
    "        ['defect',7793],\n",
    "        ['deft',814],\n",
    "        ['defer',1416],\n",
    "        ['Deeft',0]\n",
    "    ],\n",
    "    columns=['word','frequency']\n",
    ")\n",
    "WIKI_pop = 1.9e9\n",
    "WIKI['P(w)'] = WIKI['frequency']/WIKI_pop\n",
    "WIKI['rank'] = WIKI['frequency'].rank(ascending=False).astype(int)\n",
    "\n",
    "WIKI.head(6)"
   ]
  },
  {
   "cell_type": "markdown",
   "id": "c7a87198",
   "metadata": {},
   "source": [
    "### IULA Spanish-English Technical Corpus [Sample](https://repositori.upf.edu/handle/10230/20052)"
   ]
  },
  {
   "cell_type": "code",
   "execution_count": 5,
   "id": "16802d39",
   "metadata": {},
   "outputs": [
    {
     "data": {
      "text/html": [
       "<div>\n",
       "<style scoped>\n",
       "    .dataframe tbody tr th:only-of-type {\n",
       "        vertical-align: middle;\n",
       "    }\n",
       "\n",
       "    .dataframe tbody tr th {\n",
       "        vertical-align: top;\n",
       "    }\n",
       "\n",
       "    .dataframe thead th {\n",
       "        text-align: right;\n",
       "    }\n",
       "</style>\n",
       "<table border=\"1\" class=\"dataframe\">\n",
       "  <thead>\n",
       "    <tr style=\"text-align: right;\">\n",
       "      <th></th>\n",
       "      <th>word</th>\n",
       "      <th>frequency</th>\n",
       "      <th>P(w)</th>\n",
       "      <th>rank</th>\n",
       "    </tr>\n",
       "  </thead>\n",
       "  <tbody>\n",
       "    <tr>\n",
       "      <th>0</th>\n",
       "      <td>defeat</td>\n",
       "      <td>11</td>\n",
       "      <td>0.000005</td>\n",
       "      <td>2</td>\n",
       "    </tr>\n",
       "    <tr>\n",
       "      <th>1</th>\n",
       "      <td>decet</td>\n",
       "      <td>0</td>\n",
       "      <td>0.000000</td>\n",
       "      <td>5</td>\n",
       "    </tr>\n",
       "    <tr>\n",
       "      <th>2</th>\n",
       "      <td>defect</td>\n",
       "      <td>180</td>\n",
       "      <td>0.000086</td>\n",
       "      <td>1</td>\n",
       "    </tr>\n",
       "    <tr>\n",
       "      <th>3</th>\n",
       "      <td>deft</td>\n",
       "      <td>0</td>\n",
       "      <td>0.000000</td>\n",
       "      <td>5</td>\n",
       "    </tr>\n",
       "    <tr>\n",
       "      <th>4</th>\n",
       "      <td>defer</td>\n",
       "      <td>11</td>\n",
       "      <td>0.000005</td>\n",
       "      <td>2</td>\n",
       "    </tr>\n",
       "    <tr>\n",
       "      <th>5</th>\n",
       "      <td>Deeft</td>\n",
       "      <td>0</td>\n",
       "      <td>0.000000</td>\n",
       "      <td>5</td>\n",
       "    </tr>\n",
       "  </tbody>\n",
       "</table>\n",
       "</div>"
      ],
      "text/plain": [
       "     word  frequency      P(w)  rank\n",
       "0  defeat         11  0.000005     2\n",
       "1   decet          0  0.000000     5\n",
       "2  defect        180  0.000086     1\n",
       "3    deft          0  0.000000     5\n",
       "4   defer         11  0.000005     2\n",
       "5   Deeft          0  0.000000     5"
      ]
     },
     "execution_count": 5,
     "metadata": {},
     "output_type": "execute_result"
    }
   ],
   "source": [
    "IULA = pd.DataFrame(\n",
    "    [\n",
    "        ['defeat',11],\n",
    "        ['decet',0],\n",
    "        ['defect',180],\n",
    "        ['deft',0],\n",
    "        ['defer',11],\n",
    "        ['Deeft',0]\n",
    "    ],\n",
    "    columns=['word','frequency']\n",
    ")\n",
    "IULA_pop = 2.1e6\n",
    "IULA['P(w)'] = IULA['frequency']/IULA_pop\n",
    "IULA['rank'] = IULA['frequency'].rank(ascending=False).astype(int)\n",
    "\n",
    "IULA.head(6)"
   ]
  },
  {
   "cell_type": "markdown",
   "id": "fd6c1a97",
   "metadata": {},
   "source": [
    "as you can see that The COCA and Wikipedia have the same result on `Deeft` but on the IULA we have the different result\n",
    "\n",
    "It prove that \"Corpus does matter\""
   ]
  },
  {
   "cell_type": "markdown",
   "id": "931cc224",
   "metadata": {},
   "source": [
    "---"
   ]
  },
  {
   "cell_type": "markdown",
   "id": "0322bed5",
   "metadata": {},
   "source": [
    "## Update the tables with Norvig and calculate the final prob"
   ]
  },
  {
   "cell_type": "markdown",
   "id": "1d11861a",
   "metadata": {},
   "source": [
    "### Channel model probability we use the collected list of errors, from [PeterNorvig's collection](http://norvig.com/ngrams/)"
   ]
  },
  {
   "cell_type": "markdown",
   "id": "e10259ba",
   "metadata": {},
   "source": [
    "#### from [count_1edit.txt](http://norvig.com/ngrams/count_1edit.txt)"
   ]
  },
  {
   "cell_type": "code",
   "execution_count": 6,
   "id": "2a359b89",
   "metadata": {},
   "outputs": [
    {
     "data": {
      "text/html": [
       "<div>\n",
       "<style scoped>\n",
       "    .dataframe tbody tr th:only-of-type {\n",
       "        vertical-align: middle;\n",
       "    }\n",
       "\n",
       "    .dataframe tbody tr th {\n",
       "        vertical-align: top;\n",
       "    }\n",
       "\n",
       "    .dataframe thead th {\n",
       "        text-align: right;\n",
       "    }\n",
       "</style>\n",
       "<table border=\"1\" class=\"dataframe\">\n",
       "  <thead>\n",
       "    <tr style=\"text-align: right;\">\n",
       "      <th></th>\n",
       "      <th>edit</th>\n",
       "    </tr>\n",
       "    <tr>\n",
       "      <th>term</th>\n",
       "      <th></th>\n",
       "    </tr>\n",
       "  </thead>\n",
       "  <tbody>\n",
       "    <tr>\n",
       "      <th>e|i</th>\n",
       "      <td>917</td>\n",
       "    </tr>\n",
       "    <tr>\n",
       "      <th>a|e</th>\n",
       "      <td>856</td>\n",
       "    </tr>\n",
       "    <tr>\n",
       "      <th>i|e</th>\n",
       "      <td>771</td>\n",
       "    </tr>\n",
       "    <tr>\n",
       "      <th>e|a</th>\n",
       "      <td>749</td>\n",
       "    </tr>\n",
       "    <tr>\n",
       "      <th>a|i</th>\n",
       "      <td>559</td>\n",
       "    </tr>\n",
       "  </tbody>\n",
       "</table>\n",
       "</div>"
      ],
      "text/plain": [
       "      edit\n",
       "term      \n",
       "e|i    917\n",
       "a|e    856\n",
       "i|e    771\n",
       "e|a    749\n",
       "a|i    559"
      ]
     },
     "execution_count": 6,
     "metadata": {},
     "output_type": "execute_result"
    }
   ],
   "source": [
    "norvig = pd.read_csv(\n",
    "    'http://norvig.com/ngrams/count_1edit.txt',\n",
    "    sep='\\t',\n",
    "    encoding = \"ISO-8859-1\",\n",
    "    header=None\n",
    ")\n",
    "norvig.columns = ['term', 'edit']\n",
    "norvig = norvig.set_index('term')\n",
    "norvig.head()"
   ]
  },
  {
   "cell_type": "markdown",
   "id": "ebb3b047",
   "metadata": {},
   "source": [
    "#### from [count_big.txt](http://norvig.com/ngrams/count_big.txt)"
   ]
  },
  {
   "cell_type": "code",
   "execution_count": 7,
   "id": "fc05e3c0",
   "metadata": {},
   "outputs": [
    {
     "data": {
      "text/html": [
       "<div>\n",
       "<style scoped>\n",
       "    .dataframe tbody tr th:only-of-type {\n",
       "        vertical-align: middle;\n",
       "    }\n",
       "\n",
       "    .dataframe tbody tr th {\n",
       "        vertical-align: top;\n",
       "    }\n",
       "\n",
       "    .dataframe thead th {\n",
       "        text-align: right;\n",
       "    }\n",
       "</style>\n",
       "<table border=\"1\" class=\"dataframe\">\n",
       "  <thead>\n",
       "    <tr style=\"text-align: right;\">\n",
       "      <th></th>\n",
       "      <th>term</th>\n",
       "      <th>freq</th>\n",
       "    </tr>\n",
       "  </thead>\n",
       "  <tbody>\n",
       "    <tr>\n",
       "      <th>0</th>\n",
       "      <td>a</td>\n",
       "      <td>21160</td>\n",
       "    </tr>\n",
       "    <tr>\n",
       "      <th>1</th>\n",
       "      <td>aah</td>\n",
       "      <td>1</td>\n",
       "    </tr>\n",
       "    <tr>\n",
       "      <th>2</th>\n",
       "      <td>aaron</td>\n",
       "      <td>5</td>\n",
       "    </tr>\n",
       "    <tr>\n",
       "      <th>3</th>\n",
       "      <td>ab</td>\n",
       "      <td>2</td>\n",
       "    </tr>\n",
       "    <tr>\n",
       "      <th>4</th>\n",
       "      <td>aback</td>\n",
       "      <td>3</td>\n",
       "    </tr>\n",
       "  </tbody>\n",
       "</table>\n",
       "</div>"
      ],
      "text/plain": [
       "    term   freq\n",
       "0      a  21160\n",
       "1    aah      1\n",
       "2  aaron      5\n",
       "3     ab      2\n",
       "4  aback      3"
      ]
     },
     "execution_count": 7,
     "metadata": {},
     "output_type": "execute_result"
    }
   ],
   "source": [
    "norvig_orig = pd.read_csv(\n",
    "    'http://norvig.com/ngrams/count_big.txt',\n",
    "    sep='\\t',\n",
    "    encoding = \"ISO-8859-1\",\n",
    "    header=None\n",
    ")\n",
    "norvig_orig = norvig_orig.dropna()\n",
    "norvig_orig.columns=['term','freq']\n",
    "norvig_orig.head()"
   ]
  },
  {
   "cell_type": "markdown",
   "id": "26b46e09",
   "metadata": {},
   "source": [
    "### P(X|W)"
   ]
  },
  {
   "cell_type": "code",
   "execution_count": 8,
   "id": "2d981654",
   "metadata": {},
   "outputs": [],
   "source": [
    "def get_count(c):\n",
    "    return norvig_orig.apply(lambda x: x.term.count(c) * x.freq, axis=1).sum()"
   ]
  },
  {
   "cell_type": "code",
   "execution_count": 9,
   "id": "a493efd3",
   "metadata": {},
   "outputs": [],
   "source": [
    "character_set = list(map(''.join, itertools.product(ascii_lowercase, repeat=1))) + list(map(''.join, itertools.product(ascii_lowercase, repeat=2)))"
   ]
  },
  {
   "cell_type": "markdown",
   "id": "6034944e",
   "metadata": {},
   "source": [
    "The code below didn't workout for me so I decide to use the old fashion way \n",
    "\n",
    "```\n",
    "with mp.Pool(processes=8) as pool:\n",
    "    freq_list = pool.map(functools.partial(get_count), character_set)\n",
    "```"
   ]
  },
  {
   "cell_type": "code",
   "execution_count": 11,
   "id": "1de3b8cc",
   "metadata": {},
   "outputs": [],
   "source": [
    "freq_list = []\n",
    "for i in character_set :\n",
    "    freq_list.append(get_count(i))"
   ]
  },
  {
   "cell_type": "code",
   "execution_count": 12,
   "id": "aa5cb689",
   "metadata": {},
   "outputs": [
    {
     "data": {
      "text/html": [
       "<div>\n",
       "<style scoped>\n",
       "    .dataframe tbody tr th:only-of-type {\n",
       "        vertical-align: middle;\n",
       "    }\n",
       "\n",
       "    .dataframe tbody tr th {\n",
       "        vertical-align: top;\n",
       "    }\n",
       "\n",
       "    .dataframe thead th {\n",
       "        text-align: right;\n",
       "    }\n",
       "</style>\n",
       "<table border=\"1\" class=\"dataframe\">\n",
       "  <thead>\n",
       "    <tr style=\"text-align: right;\">\n",
       "      <th></th>\n",
       "      <th>word</th>\n",
       "      <th>frequency</th>\n",
       "      <th>P(w)</th>\n",
       "      <th>rank</th>\n",
       "      <th>P(x|w)</th>\n",
       "    </tr>\n",
       "  </thead>\n",
       "  <tbody>\n",
       "    <tr>\n",
       "      <th>0</th>\n",
       "      <td>defeat</td>\n",
       "      <td>21947</td>\n",
       "      <td>2.194700e-05</td>\n",
       "      <td>1</td>\n",
       "      <td>0.012834</td>\n",
       "    </tr>\n",
       "    <tr>\n",
       "      <th>1</th>\n",
       "      <td>decet</td>\n",
       "      <td>6</td>\n",
       "      <td>6.000000e-09</td>\n",
       "      <td>5</td>\n",
       "      <td>0.000028</td>\n",
       "    </tr>\n",
       "    <tr>\n",
       "      <th>2</th>\n",
       "      <td>defect</td>\n",
       "      <td>3973</td>\n",
       "      <td>3.973000e-06</td>\n",
       "      <td>2</td>\n",
       "      <td>0.003167</td>\n",
       "    </tr>\n",
       "    <tr>\n",
       "      <th>3</th>\n",
       "      <td>deft</td>\n",
       "      <td>1240</td>\n",
       "      <td>1.240000e-06</td>\n",
       "      <td>4</td>\n",
       "      <td>0.000003</td>\n",
       "    </tr>\n",
       "    <tr>\n",
       "      <th>4</th>\n",
       "      <td>defer</td>\n",
       "      <td>2239</td>\n",
       "      <td>2.239000e-06</td>\n",
       "      <td>3</td>\n",
       "      <td>0.000036</td>\n",
       "    </tr>\n",
       "    <tr>\n",
       "      <th>5</th>\n",
       "      <td>Deeft</td>\n",
       "      <td>0</td>\n",
       "      <td>0.000000e+00</td>\n",
       "      <td>6</td>\n",
       "      <td>0.003311</td>\n",
       "    </tr>\n",
       "  </tbody>\n",
       "</table>\n",
       "</div>"
      ],
      "text/plain": [
       "     word  frequency          P(w)  rank    P(x|w)\n",
       "0  defeat      21947  2.194700e-05     1  0.012834\n",
       "1   decet          6  6.000000e-09     5  0.000028\n",
       "2  defect       3973  3.973000e-06     2  0.003167\n",
       "3    deft       1240  1.240000e-06     4  0.000003\n",
       "4   defer       2239  2.239000e-06     3  0.000036\n",
       "5   Deeft          0  0.000000e+00     6  0.003311"
      ]
     },
     "execution_count": 12,
     "metadata": {},
     "output_type": "execute_result"
    }
   ],
   "source": [
    "freq_df = pd.DataFrame([character_set, freq_list], index=['char', 'freq']).T\n",
    "freq_df = freq_df.set_index('char')\n",
    "COCA['P(x|w)'] = [\n",
    "    (norvig.loc['e|ea'].values / freq_df.loc['ea'].values)[0],\n",
    "    (norvig.loc['f|c'].values / freq_df.loc['c'].values)[0],\n",
    "    (norvig.loc['e|ec'].values / freq_df.loc['ec'].values)[0],\n",
    "    (norvig.loc['e| '].values / freq_df.loc['e'].values)[0],\n",
    "    (norvig.loc['t|r'].values / freq_df.loc['r'].values)[0],\n",
    "    (norvig.loc['fe|ef'].values / freq_df.loc['ef'].values)[0]\n",
    "]\n",
    "COCA.head(6)"
   ]
  },
  {
   "cell_type": "markdown",
   "id": "758ed057",
   "metadata": {},
   "source": [
    "### P(x|w)P(w) — Using COCA"
   ]
  },
  {
   "cell_type": "code",
   "execution_count": 15,
   "id": "b3d58c70",
   "metadata": {},
   "outputs": [
    {
     "data": {
      "text/html": [
       "<div>\n",
       "<style scoped>\n",
       "    .dataframe tbody tr th:only-of-type {\n",
       "        vertical-align: middle;\n",
       "    }\n",
       "\n",
       "    .dataframe tbody tr th {\n",
       "        vertical-align: top;\n",
       "    }\n",
       "\n",
       "    .dataframe thead th {\n",
       "        text-align: right;\n",
       "    }\n",
       "</style>\n",
       "<table border=\"1\" class=\"dataframe\">\n",
       "  <thead>\n",
       "    <tr style=\"text-align: right;\">\n",
       "      <th></th>\n",
       "      <th>word</th>\n",
       "      <th>frequency</th>\n",
       "      <th>P(w)</th>\n",
       "      <th>rank</th>\n",
       "      <th>P(x|w)</th>\n",
       "      <th>109 P(x|w)P(w)</th>\n",
       "    </tr>\n",
       "  </thead>\n",
       "  <tbody>\n",
       "    <tr>\n",
       "      <th>0</th>\n",
       "      <td>defeat</td>\n",
       "      <td>21947</td>\n",
       "      <td>2.194700e-05</td>\n",
       "      <td>1</td>\n",
       "      <td>0.012834</td>\n",
       "      <td>281.667621</td>\n",
       "    </tr>\n",
       "    <tr>\n",
       "      <th>1</th>\n",
       "      <td>decet</td>\n",
       "      <td>6</td>\n",
       "      <td>6.000000e-09</td>\n",
       "      <td>5</td>\n",
       "      <td>0.000028</td>\n",
       "      <td>0.000166</td>\n",
       "    </tr>\n",
       "    <tr>\n",
       "      <th>2</th>\n",
       "      <td>defect</td>\n",
       "      <td>3973</td>\n",
       "      <td>3.973000e-06</td>\n",
       "      <td>2</td>\n",
       "      <td>0.003167</td>\n",
       "      <td>12.582104</td>\n",
       "    </tr>\n",
       "    <tr>\n",
       "      <th>3</th>\n",
       "      <td>deft</td>\n",
       "      <td>1240</td>\n",
       "      <td>1.240000e-06</td>\n",
       "      <td>4</td>\n",
       "      <td>0.000003</td>\n",
       "      <td>0.003918</td>\n",
       "    </tr>\n",
       "    <tr>\n",
       "      <th>4</th>\n",
       "      <td>defer</td>\n",
       "      <td>2239</td>\n",
       "      <td>2.239000e-06</td>\n",
       "      <td>3</td>\n",
       "      <td>0.000036</td>\n",
       "      <td>0.079565</td>\n",
       "    </tr>\n",
       "    <tr>\n",
       "      <th>5</th>\n",
       "      <td>Deeft</td>\n",
       "      <td>0</td>\n",
       "      <td>0.000000e+00</td>\n",
       "      <td>6</td>\n",
       "      <td>0.003311</td>\n",
       "      <td>0.000000</td>\n",
       "    </tr>\n",
       "  </tbody>\n",
       "</table>\n",
       "</div>"
      ],
      "text/plain": [
       "     word  frequency          P(w)  rank    P(x|w)  109 P(x|w)P(w)\n",
       "0  defeat      21947  2.194700e-05     1  0.012834      281.667621\n",
       "1   decet          6  6.000000e-09     5  0.000028        0.000166\n",
       "2  defect       3973  3.973000e-06     2  0.003167       12.582104\n",
       "3    deft       1240  1.240000e-06     4  0.000003        0.003918\n",
       "4   defer       2239  2.239000e-06     3  0.000036        0.079565\n",
       "5   Deeft          0  0.000000e+00     6  0.003311        0.000000"
      ]
     },
     "execution_count": 15,
     "metadata": {},
     "output_type": "execute_result"
    }
   ],
   "source": [
    "COCA['109 P(x|w)P(w)'] = 1e9 * COCA['P(w)'] * COCA['P(x|w)']\n",
    "COCA.head(6)"
   ]
  },
  {
   "cell_type": "markdown",
   "id": "524d64c1",
   "metadata": {},
   "source": [
    "### P(x|w)P(w) — Using IULA"
   ]
  },
  {
   "cell_type": "code",
   "execution_count": 17,
   "id": "e1224dc5",
   "metadata": {},
   "outputs": [
    {
     "data": {
      "text/html": [
       "<div>\n",
       "<style scoped>\n",
       "    .dataframe tbody tr th:only-of-type {\n",
       "        vertical-align: middle;\n",
       "    }\n",
       "\n",
       "    .dataframe tbody tr th {\n",
       "        vertical-align: top;\n",
       "    }\n",
       "\n",
       "    .dataframe thead th {\n",
       "        text-align: right;\n",
       "    }\n",
       "</style>\n",
       "<table border=\"1\" class=\"dataframe\">\n",
       "  <thead>\n",
       "    <tr style=\"text-align: right;\">\n",
       "      <th></th>\n",
       "      <th>word</th>\n",
       "      <th>frequency</th>\n",
       "      <th>P(w)</th>\n",
       "      <th>rank</th>\n",
       "      <th>P(x|w)</th>\n",
       "      <th>109 P(x|w)P(w)</th>\n",
       "    </tr>\n",
       "  </thead>\n",
       "  <tbody>\n",
       "    <tr>\n",
       "      <th>0</th>\n",
       "      <td>defeat</td>\n",
       "      <td>11</td>\n",
       "      <td>0.000005</td>\n",
       "      <td>2</td>\n",
       "      <td>0.012834</td>\n",
       "      <td>67.225672</td>\n",
       "    </tr>\n",
       "    <tr>\n",
       "      <th>1</th>\n",
       "      <td>decet</td>\n",
       "      <td>0</td>\n",
       "      <td>0.000000</td>\n",
       "      <td>5</td>\n",
       "      <td>0.000028</td>\n",
       "      <td>0.000000</td>\n",
       "    </tr>\n",
       "    <tr>\n",
       "      <th>2</th>\n",
       "      <td>defect</td>\n",
       "      <td>180</td>\n",
       "      <td>0.000086</td>\n",
       "      <td>1</td>\n",
       "      <td>0.003167</td>\n",
       "      <td>271.448786</td>\n",
       "    </tr>\n",
       "    <tr>\n",
       "      <th>3</th>\n",
       "      <td>deft</td>\n",
       "      <td>0</td>\n",
       "      <td>0.000000</td>\n",
       "      <td>5</td>\n",
       "      <td>0.000003</td>\n",
       "      <td>0.000000</td>\n",
       "    </tr>\n",
       "    <tr>\n",
       "      <th>4</th>\n",
       "      <td>defer</td>\n",
       "      <td>11</td>\n",
       "      <td>0.000005</td>\n",
       "      <td>2</td>\n",
       "      <td>0.000036</td>\n",
       "      <td>0.186141</td>\n",
       "    </tr>\n",
       "    <tr>\n",
       "      <th>5</th>\n",
       "      <td>Deeft</td>\n",
       "      <td>0</td>\n",
       "      <td>0.000000</td>\n",
       "      <td>5</td>\n",
       "      <td>0.003311</td>\n",
       "      <td>0.000000</td>\n",
       "    </tr>\n",
       "  </tbody>\n",
       "</table>\n",
       "</div>"
      ],
      "text/plain": [
       "     word  frequency      P(w)  rank    P(x|w)  109 P(x|w)P(w)\n",
       "0  defeat         11  0.000005     2  0.012834       67.225672\n",
       "1   decet          0  0.000000     5  0.000028        0.000000\n",
       "2  defect        180  0.000086     1  0.003167      271.448786\n",
       "3    deft          0  0.000000     5  0.000003        0.000000\n",
       "4   defer         11  0.000005     2  0.000036        0.186141\n",
       "5   Deeft          0  0.000000     5  0.003311        0.000000"
      ]
     },
     "execution_count": 17,
     "metadata": {},
     "output_type": "execute_result"
    }
   ],
   "source": [
    "IULA['P(x|w)'] = COCA['P(x|w)']\n",
    "IULA['109 P(x|w)P(w)'] = 1e9 * IULA['P(w)'] * IULA['P(x|w)']\n",
    "IULA.head(6)"
   ]
  },
  {
   "cell_type": "markdown",
   "id": "703dcffb",
   "metadata": {},
   "source": [
    "## Demonstrate the result"
   ]
  },
  {
   "cell_type": "code",
   "execution_count": 18,
   "id": "c249a7d2",
   "metadata": {},
   "outputs": [],
   "source": [
    "# number 3 goes there"
   ]
  },
  {
   "cell_type": "code",
   "execution_count": null,
   "id": "0b6a00ca",
   "metadata": {},
   "outputs": [],
   "source": []
  }
 ],
 "metadata": {
  "kernelspec": {
   "display_name": "Python 3 (ipykernel)",
   "language": "python",
   "name": "python3"
  },
  "language_info": {
   "codemirror_mode": {
    "name": "ipython",
    "version": 3
   },
   "file_extension": ".py",
   "mimetype": "text/x-python",
   "name": "python",
   "nbconvert_exporter": "python",
   "pygments_lexer": "ipython3",
   "version": "3.9.7"
  }
 },
 "nbformat": 4,
 "nbformat_minor": 5
}
